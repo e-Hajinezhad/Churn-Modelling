{
 "cells": [
  {
   "cell_type": "markdown",
   "metadata": {},
   "source": [
    "<div class=\"alert alert-block alert-success\">\n",
    "    <h1 align=\"center\">Machine Learning in Python</h1>\n",
    "    <h3 align=\"center\">Churn Modeling</h3>\n",
    "</div>"
   ]
  },
  {
   "cell_type": "markdown",
   "metadata": {},
   "source": [
    "<img src = \"https://slitayem.github.io/img/blog/2020-08-04/churn.png\" width=50%>"
   ]
  },
  {
   "cell_type": "markdown",
   "metadata": {},
   "source": [
    "======================================================================================================================"
   ]
  },
  {
   "cell_type": "markdown",
   "metadata": {},
   "source": [
    "## Importing the libraries"
   ]
  },
  {
   "cell_type": "code",
   "execution_count": 812,
   "metadata": {},
   "outputs": [],
   "source": [
    "%matplotlib inline\n",
    "import numpy as np\n",
    "import pandas as pd\n",
    "import matplotlib.pyplot as plt\n",
    "import seaborn as sns\n",
    "\n",
    "from sklearn.metrics import classification_report\n",
    "from sklearn.preprocessing import StandardScaler, LabelEncoder\n",
    "from xgboost import XGBClassifier\n",
    "from sklearn.ensemble import GradientBoostingClassifier, AdaBoostClassifier, RandomForestClassifier, IsolationForest\n",
    "from lightgbm import LGBMClassifier\n",
    "from catboost import CatBoostClassifier\n",
    "from sklearn.svm import SVC\n",
    "from sklearn.model_selection import train_test_split\n",
    "\n",
    "from imblearn.over_sampling import SMOTE\n",
    "from imblearn.under_sampling import RandomUnderSampler\n",
    "from imblearn.over_sampling import RandomOverSampler\n",
    "\n",
    "from sklearn.utils.class_weight import compute_sample_weight"
   ]
  },
  {
   "cell_type": "markdown",
   "metadata": {
    "tags": []
   },
   "source": [
    "## Load DataSet"
   ]
  },
  {
   "cell_type": "code",
   "execution_count": 356,
   "metadata": {},
   "outputs": [],
   "source": [
    "Churn_data = pd.read_csv(\"Churn.csv\")"
   ]
  },
  {
   "cell_type": "markdown",
   "metadata": {
    "tags": []
   },
   "source": [
    "## Exploratory Data Analysis (EDA)"
   ]
  },
  {
   "cell_type": "code",
   "execution_count": 359,
   "metadata": {
    "scrolled": true
   },
   "outputs": [
    {
     "data": {
      "text/html": [
       "<div>\n",
       "<style scoped>\n",
       "    .dataframe tbody tr th:only-of-type {\n",
       "        vertical-align: middle;\n",
       "    }\n",
       "\n",
       "    .dataframe tbody tr th {\n",
       "        vertical-align: top;\n",
       "    }\n",
       "\n",
       "    .dataframe thead th {\n",
       "        text-align: right;\n",
       "    }\n",
       "</style>\n",
       "<table border=\"1\" class=\"dataframe\">\n",
       "  <thead>\n",
       "    <tr style=\"text-align: right;\">\n",
       "      <th></th>\n",
       "      <th>RowNumber</th>\n",
       "      <th>CustomerId</th>\n",
       "      <th>Surname</th>\n",
       "      <th>CreditScore</th>\n",
       "      <th>Geography</th>\n",
       "      <th>Gender</th>\n",
       "      <th>Age</th>\n",
       "      <th>Tenure</th>\n",
       "      <th>Balance</th>\n",
       "      <th>NumOfProducts</th>\n",
       "      <th>HasCrCard</th>\n",
       "      <th>IsActiveMember</th>\n",
       "      <th>EstimatedSalary</th>\n",
       "      <th>Exited</th>\n",
       "    </tr>\n",
       "  </thead>\n",
       "  <tbody>\n",
       "    <tr>\n",
       "      <th>0</th>\n",
       "      <td>1</td>\n",
       "      <td>15634602</td>\n",
       "      <td>Hargrave</td>\n",
       "      <td>619</td>\n",
       "      <td>France</td>\n",
       "      <td>Female</td>\n",
       "      <td>42</td>\n",
       "      <td>2</td>\n",
       "      <td>0.00</td>\n",
       "      <td>1</td>\n",
       "      <td>1</td>\n",
       "      <td>1</td>\n",
       "      <td>101348.88</td>\n",
       "      <td>1</td>\n",
       "    </tr>\n",
       "    <tr>\n",
       "      <th>1</th>\n",
       "      <td>2</td>\n",
       "      <td>15647311</td>\n",
       "      <td>Hill</td>\n",
       "      <td>608</td>\n",
       "      <td>Spain</td>\n",
       "      <td>Female</td>\n",
       "      <td>41</td>\n",
       "      <td>1</td>\n",
       "      <td>83807.86</td>\n",
       "      <td>1</td>\n",
       "      <td>0</td>\n",
       "      <td>1</td>\n",
       "      <td>112542.58</td>\n",
       "      <td>0</td>\n",
       "    </tr>\n",
       "    <tr>\n",
       "      <th>2</th>\n",
       "      <td>3</td>\n",
       "      <td>15619304</td>\n",
       "      <td>Onio</td>\n",
       "      <td>502</td>\n",
       "      <td>France</td>\n",
       "      <td>Female</td>\n",
       "      <td>42</td>\n",
       "      <td>8</td>\n",
       "      <td>159660.80</td>\n",
       "      <td>3</td>\n",
       "      <td>1</td>\n",
       "      <td>0</td>\n",
       "      <td>113931.57</td>\n",
       "      <td>1</td>\n",
       "    </tr>\n",
       "    <tr>\n",
       "      <th>3</th>\n",
       "      <td>4</td>\n",
       "      <td>15701354</td>\n",
       "      <td>Boni</td>\n",
       "      <td>699</td>\n",
       "      <td>France</td>\n",
       "      <td>Female</td>\n",
       "      <td>39</td>\n",
       "      <td>1</td>\n",
       "      <td>0.00</td>\n",
       "      <td>2</td>\n",
       "      <td>0</td>\n",
       "      <td>0</td>\n",
       "      <td>93826.63</td>\n",
       "      <td>0</td>\n",
       "    </tr>\n",
       "    <tr>\n",
       "      <th>4</th>\n",
       "      <td>5</td>\n",
       "      <td>15737888</td>\n",
       "      <td>Mitchell</td>\n",
       "      <td>850</td>\n",
       "      <td>Spain</td>\n",
       "      <td>Female</td>\n",
       "      <td>43</td>\n",
       "      <td>2</td>\n",
       "      <td>125510.82</td>\n",
       "      <td>1</td>\n",
       "      <td>1</td>\n",
       "      <td>1</td>\n",
       "      <td>79084.10</td>\n",
       "      <td>0</td>\n",
       "    </tr>\n",
       "  </tbody>\n",
       "</table>\n",
       "</div>"
      ],
      "text/plain": [
       "   RowNumber  CustomerId   Surname  CreditScore Geography  Gender  Age  \\\n",
       "0          1    15634602  Hargrave          619    France  Female   42   \n",
       "1          2    15647311      Hill          608     Spain  Female   41   \n",
       "2          3    15619304      Onio          502    France  Female   42   \n",
       "3          4    15701354      Boni          699    France  Female   39   \n",
       "4          5    15737888  Mitchell          850     Spain  Female   43   \n",
       "\n",
       "   Tenure    Balance  NumOfProducts  HasCrCard  IsActiveMember  \\\n",
       "0       2       0.00              1          1               1   \n",
       "1       1   83807.86              1          0               1   \n",
       "2       8  159660.80              3          1               0   \n",
       "3       1       0.00              2          0               0   \n",
       "4       2  125510.82              1          1               1   \n",
       "\n",
       "   EstimatedSalary  Exited  \n",
       "0        101348.88       1  \n",
       "1        112542.58       0  \n",
       "2        113931.57       1  \n",
       "3         93826.63       0  \n",
       "4         79084.10       0  "
      ]
     },
     "execution_count": 359,
     "metadata": {},
     "output_type": "execute_result"
    }
   ],
   "source": [
    "Churn_data.head(5)"
   ]
  },
  {
   "cell_type": "code",
   "execution_count": 361,
   "metadata": {
    "scrolled": true
   },
   "outputs": [
    {
     "name": "stdout",
     "output_type": "stream",
     "text": [
      "<class 'pandas.core.frame.DataFrame'>\n",
      "RangeIndex: 10000 entries, 0 to 9999\n",
      "Data columns (total 14 columns):\n",
      " #   Column           Non-Null Count  Dtype  \n",
      "---  ------           --------------  -----  \n",
      " 0   RowNumber        10000 non-null  int64  \n",
      " 1   CustomerId       10000 non-null  int64  \n",
      " 2   Surname          10000 non-null  object \n",
      " 3   CreditScore      10000 non-null  int64  \n",
      " 4   Geography        10000 non-null  object \n",
      " 5   Gender           10000 non-null  object \n",
      " 6   Age              10000 non-null  int64  \n",
      " 7   Tenure           10000 non-null  int64  \n",
      " 8   Balance          10000 non-null  float64\n",
      " 9   NumOfProducts    10000 non-null  int64  \n",
      " 10  HasCrCard        10000 non-null  int64  \n",
      " 11  IsActiveMember   10000 non-null  int64  \n",
      " 12  EstimatedSalary  10000 non-null  float64\n",
      " 13  Exited           10000 non-null  int64  \n",
      "dtypes: float64(2), int64(9), object(3)\n",
      "memory usage: 1.1+ MB\n"
     ]
    }
   ],
   "source": [
    "Churn_data.info()"
   ]
  },
  {
   "cell_type": "code",
   "execution_count": 363,
   "metadata": {},
   "outputs": [],
   "source": [
    "X = Churn_data.iloc[:,3:-1]\n",
    "y = Churn_data.iloc[:,-1]"
   ]
  },
  {
   "cell_type": "markdown",
   "metadata": {
    "tags": []
   },
   "source": [
    "### Visualization"
   ]
  },
  {
   "cell_type": "code",
   "execution_count": 366,
   "metadata": {},
   "outputs": [
    {
     "data": {
      "image/png": "[encoded data removed]",
      "text/plain": [
       "<Figure size 1200x4000 with 18 Axes>"
      ]
     },
     "metadata": {},
     "output_type": "display_data"
    }
   ],
   "source": [
    "(fig, axes) = plt.subplots(9,2, figsize= (12,40))\n",
    "#----\n",
    "sns.histplot(Churn_data.loc[Churn_data[\"Exited\"]==1][\"Geography\"], ax = axes[0,0])\n",
    "axes[0,0].set_title(\"Geography of Exited customers\")\n",
    "\n",
    "#----\n",
    "sns.histplot(Churn_data.loc[Churn_data[\"Exited\"]==1][\"Gender\"], ax = axes[0,1])\n",
    "axes[0,1].set_title(\"Gender of Exited customers\")\n",
    "\n",
    "#----\n",
    "sns.histplot(Churn_data.loc[Churn_data[\"Exited\"]==1][\"CreditScore\"], ax = axes[1,0])\n",
    "axes[1,0].set_title(\"CreditScore of Exited customers\")\n",
    "\n",
    "sns.histplot(Churn_data.loc[Churn_data[\"Exited\"]==0][\"CreditScore\"], ax = axes[1,1])\n",
    "axes[1,1].set_title(\"CreditScore of not Exited customers\")\n",
    "\n",
    "# Get the maximum y-axis value from both plots\n",
    "y_max = max(axes[1, 0].get_ylim()[1], axes[1, 1].get_ylim()[1])\n",
    "\n",
    "# Set the same y-axis range for both subplots\n",
    "axes[1, 0].set_ylim(0, y_max)\n",
    "axes[1, 1].set_ylim(0, y_max)\n",
    "\n",
    "#----\n",
    "sns.histplot(Churn_data.loc[Churn_data[\"Exited\"]==1][\"NumOfProducts\"], ax = axes[2,0])\n",
    "axes[2,0].set_title(\"NumOfProducts of Exited customers\")\n",
    "\n",
    "sns.histplot(Churn_data.loc[Churn_data[\"Exited\"]==0][\"NumOfProducts\"], ax = axes[2,1])\n",
    "axes[2,1].set_title(\"NumOfProducts of not Exited customers\")\n",
    "\n",
    "# Get the maximum y-axis value from both plots\n",
    "y_max = max(axes[2, 0].get_ylim()[1], axes[2, 1].get_ylim()[1])\n",
    "\n",
    "# Set the same y-axis range for both subplots\n",
    "axes[2, 0].set_ylim(0, y_max)\n",
    "axes[2, 1].set_ylim(0, y_max)\n",
    "\n",
    "#----\n",
    "sns.histplot(Churn_data.loc[Churn_data[\"Exited\"]==1][\"HasCrCard\"], ax = axes[3,0])\n",
    "axes[3,0].set_title(\"HasCrCard of Exited customers\")\n",
    "\n",
    "sns.histplot(Churn_data.loc[Churn_data[\"Exited\"]==0][\"HasCrCard\"], ax = axes[3,1])\n",
    "axes[3,1].set_title(\"HasCrCard of not Exited customers\")\n",
    "\n",
    "# Get the maximum y-axis value from both plots\n",
    "y_max = max(axes[3, 0].get_ylim()[1], axes[3, 1].get_ylim()[1])\n",
    "\n",
    "# Set the same y-axis range for both subplots\n",
    "axes[3, 0].set_ylim(0, y_max)\n",
    "axes[3, 1].set_ylim(0, y_max)\n",
    "\n",
    "#----\n",
    "sns.histplot(Churn_data.loc[Churn_data[\"Exited\"]==1][\"Age\"], ax = axes[4,0])\n",
    "axes[4,0].set_title(\"Age of Exited customers\")\n",
    "\n",
    "sns.histplot(Churn_data.loc[Churn_data[\"Exited\"]==0][\"Age\"], ax = axes[4,1])\n",
    "axes[4,1].set_title(\"Age of not Exited customers\")\n",
    "\n",
    "# Get the maximum y-axis value from both plots\n",
    "y_max = max(axes[4, 0].get_ylim()[1], axes[4, 1].get_ylim()[1])\n",
    "\n",
    "# Set the same y-axis range for both subplots\n",
    "axes[4, 0].set_ylim(0, y_max)\n",
    "axes[4, 1].set_ylim(0, y_max)\n",
    "\n",
    "#----\n",
    "sns.histplot(Churn_data.loc[Churn_data[\"Exited\"]==1][\"EstimatedSalary\"], ax = axes[5,0])\n",
    "axes[5,0].set_title(\"EstimatedSalary of Exited customers\")\n",
    "\n",
    "sns.histplot(Churn_data.loc[Churn_data[\"Exited\"]==0][\"EstimatedSalary\"], ax = axes[5,1])\n",
    "axes[5,1].set_title(\"EstimatedSalary of not Exited customers\")\n",
    "\n",
    "# Get the maximum y-axis value from both plots\n",
    "y_max = max(axes[5, 0].get_ylim()[1], axes[5, 1].get_ylim()[1])\n",
    "\n",
    "# Set the same y-axis range for both subplots\n",
    "axes[5, 0].set_ylim(0, y_max)\n",
    "axes[5, 1].set_ylim(0, y_max)\n",
    "\n",
    "#----\n",
    "sns.histplot(Churn_data.loc[Churn_data[\"Exited\"]==1][\"IsActiveMember\"], ax = axes[6,0])\n",
    "axes[6,0].set_title(\"IsActiveMember of Exited customers\")\n",
    "\n",
    "sns.histplot(Churn_data.loc[Churn_data[\"Exited\"]==0][\"IsActiveMember\"], ax = axes[6,1])\n",
    "axes[6,1].set_title(\"IsActiveMember of not Exited customers\")\n",
    "\n",
    "# Get the maximum y-axis value from both plots\n",
    "y_max = max(axes[6, 0].get_ylim()[1], axes[6, 1].get_ylim()[1])\n",
    "\n",
    "# Set the same y-axis range for both subplots\n",
    "axes[6, 0].set_ylim(0, y_max)\n",
    "axes[6, 1].set_ylim(0, y_max)\n",
    "\n",
    "#----\n",
    "sns.histplot(Churn_data.loc[Churn_data[\"Exited\"]==1][\"Tenure\"], ax = axes[7,0])\n",
    "axes[7,0].set_title(\"Tenure of Exited customers\")\n",
    "\n",
    "sns.histplot(Churn_data.loc[Churn_data[\"Exited\"]==0][\"Tenure\"], ax = axes[7,1])\n",
    "axes[7,1].set_title(\"Tenure of not Exited customers\")\n",
    "\n",
    "# Get the maximum y-axis value from both plots\n",
    "y_max = max(axes[7, 0].get_ylim()[1], axes[7, 1].get_ylim()[1])\n",
    "\n",
    "# Set the same y-axis range for both subplots\n",
    "axes[7, 0].set_ylim(0, y_max)\n",
    "axes[7, 1].set_ylim(0, y_max)\n",
    "\n",
    "#----\n",
    "sns.histplot(Churn_data.loc[Churn_data[\"Exited\"]==1][\"Balance\"], ax = axes[8,0])\n",
    "axes[8,0].set_title(\"Balance of Exited customers\")\n",
    "\n",
    "sns.histplot(Churn_data.loc[Churn_data[\"Exited\"]==0][\"Balance\"], ax = axes[8,1])\n",
    "axes[8,1].set_title(\"Balance of not Exited customers\")\n",
    "\n",
    "# Get the maximum y-axis value from both plots\n",
    "y_max = max(axes[8, 0].get_ylim()[1], axes[8, 1].get_ylim()[1])\n",
    "\n",
    "# Set the same y-axis range for both subplots\n",
    "axes[8, 0].set_ylim(0, y_max)\n",
    "axes[8, 1].set_ylim(0, y_max)\n",
    "\n",
    "\n",
    "plt.tight_layout()\n",
    "plt.show()"
   ]
  },
  {
   "cell_type": "markdown",
   "metadata": {
    "tags": []
   },
   "source": [
    "# Machine Learning Models\n"
   ]
  },
  {
   "cell_type": "markdown",
   "metadata": {},
   "source": [
    "## Prepare Data for Machine learning"
   ]
  },
  {
   "cell_type": "code",
   "execution_count": 368,
   "metadata": {},
   "outputs": [],
   "source": [
    "X = Churn_data.iloc[:,3:-1]\n",
    "y = Churn_data.iloc[:,-1]\n",
    "\n",
    "# by using LabelEncoder, the \"Geography\" and \"Gender\" columns are transformed to values\n",
    "le = LabelEncoder()\n",
    "X[X.columns[1]] = le.fit_transform(X.iloc[:,1])\n",
    "X[X.columns[2]] = le.fit_transform(X.iloc[:,2])"
   ]
  },
  {
   "cell_type": "code",
   "execution_count": 806,
   "metadata": {
    "tags": []
   },
   "outputs": [
    {
     "data": {
      "text/plain": [
       "3.9091801669121256"
      ]
     },
     "execution_count": 806,
     "metadata": {},
     "output_type": "execute_result"
    }
   ],
   "source": [
    "# check wether the data is balanced or not -- > 1 or < 1 shows imbalance \n",
    "len(y[y == 0]) / len(y[y == 1])"
   ]
  },
  {
   "cell_type": "markdown",
   "metadata": {},
   "source": [
    "## Train and Test split"
   ]
  },
  {
   "cell_type": "code",
   "execution_count": 617,
   "metadata": {},
   "outputs": [],
   "source": [
    "X_train, X_test, y_train, y_test = train_test_split(X, y, train_size=0.8, random_state=42)\n",
    "\n",
    "# data is normalized \n",
    "ss = StandardScaler()\n",
    "X_train_N = ss.fit_transform(X_train)\n",
    "X_test_N = ss.transform(X_test)"
   ]
  },
  {
   "cell_type": "markdown",
   "metadata": {
    "tags": []
   },
   "source": [
    "## SMOTE"
   ]
  },
  {
   "cell_type": "code",
   "execution_count": 622,
   "metadata": {
    "tags": []
   },
   "outputs": [],
   "source": [
    "# Apply SMOTE to the training data\n",
    "smote = SMOTE(random_state=42)\n",
    "X_train_smote, y_train_smote = smote.fit_resample(X_train, y_train)\n",
    "\n",
    "# data is normalized \n",
    "ss = StandardScaler()\n",
    "X_train_smote_N = ss.fit_transform(X_train_smote)\n",
    "X_test_smote_N = ss.transform(X_test)"
   ]
  },
  {
   "cell_type": "markdown",
   "metadata": {},
   "source": [
    "## Over Sampling"
   ]
  },
  {
   "cell_type": "code",
   "execution_count": 624,
   "metadata": {
    "tags": []
   },
   "outputs": [],
   "source": [
    "# Random Over-Sampling\n",
    "ros = RandomOverSampler(random_state=42)\n",
    "X_train_ros, y_train_ros = ros.fit_resample(X_train, y_train)\n",
    "\n",
    "# data is normalized \n",
    "ss = StandardScaler()\n",
    "X_train_ros_N = ss.fit_transform(X_train_ros)\n",
    "X_test_ros_N = ss.transform(X_test)"
   ]
  },
  {
   "cell_type": "markdown",
   "metadata": {
    "tags": []
   },
   "source": [
    "## Under Sampling"
   ]
  },
  {
   "cell_type": "code",
   "execution_count": 626,
   "metadata": {
    "tags": []
   },
   "outputs": [],
   "source": [
    "# Random Under-Sampling\n",
    "rus = RandomUnderSampler(random_state=42, sampling_strategy=0.5)\n",
    "X_train_rus, y_train_rus = rus.fit_resample(X_train, y_train)\n",
    "\n",
    "# data is normalized \n",
    "ss = StandardScaler()\n",
    "X_train_rus_N = ss.fit_transform(X_train_rus)\n",
    "X_test_rus_N = ss.transform(X_test)"
   ]
  },
  {
   "cell_type": "markdown",
   "metadata": {},
   "source": [
    "# Prediction Models"
   ]
  },
  {
   "cell_type": "markdown",
   "metadata": {},
   "source": [
    "## GradientBoosting Classifier"
   ]
  },
  {
   "cell_type": "code",
   "execution_count": 775,
   "metadata": {
    "tags": []
   },
   "outputs": [
    {
     "name": "stdout",
     "output_type": "stream",
     "text": [
      "Classification Report for Gradient Boosting:\n",
      "\n",
      "              precision    recall  f1-score   support\n",
      "\n",
      "           0       0.94      0.80      0.86      1607\n",
      "           1       0.49      0.78      0.60       393\n",
      "\n",
      "    accuracy                           0.80      2000\n",
      "   macro avg       0.71      0.79      0.73      2000\n",
      "weighted avg       0.85      0.80      0.81      2000\n",
      "\n"
     ]
    }
   ],
   "source": [
    "# Compute sample weights\n",
    "sample_weights = compute_sample_weight('balanced', y_train)\n",
    "\n",
    "# Initialize the classifier\n",
    "gb_classifier = GradientBoostingClassifier()\n",
    "\n",
    "# Train the model on the training data\n",
    "gb_classifier.fit(X_train, y_train, sample_weight=sample_weights)\n",
    "\n",
    "# Predict on the test data\n",
    "y_pred = gb_classifier.predict(X_test)\n",
    "\n",
    "# Evaluate the model\n",
    "print(\"Classification Report for Gradient Boosting:\\n\")\n",
    "print(classification_report(y_test, y_pred))\n"
   ]
  },
  {
   "cell_type": "markdown",
   "metadata": {},
   "source": [
    "## GradientBoosting Classifier with SMOTE"
   ]
  },
  {
   "cell_type": "code",
   "execution_count": 472,
   "metadata": {},
   "outputs": [
    {
     "name": "stdout",
     "output_type": "stream",
     "text": [
      "Classification Report for Gradient Boosting with SMOTE:\n",
      "\n",
      "              precision    recall  f1-score   support\n",
      "\n",
      "           0       0.92      0.84      0.88      1607\n",
      "           1       0.52      0.71      0.60       393\n",
      "\n",
      "    accuracy                           0.81      2000\n",
      "   macro avg       0.72      0.77      0.74      2000\n",
      "weighted avg       0.84      0.81      0.82      2000\n",
      "\n"
     ]
    }
   ],
   "source": [
    "# Initialize the classifier\n",
    "gb_classifier = GradientBoostingClassifier()\n",
    "\n",
    "# Train the model on the training data\n",
    "gb_classifier.fit(X_train_smote, y_train_smote)\n",
    "\n",
    "# Predict on the test data\n",
    "y_pred = gb_classifier.predict(X_test)\n",
    "\n",
    "# Evaluate the model\n",
    "print(\"Classification Report for Gradient Boosting with SMOTE:\\n\")\n",
    "print(classification_report(y_test, y_pred))\n"
   ]
  },
  {
   "cell_type": "markdown",
   "metadata": {},
   "source": [
    "## GradientBoosting Classifier with OverSampling"
   ]
  },
  {
   "cell_type": "code",
   "execution_count": 475,
   "metadata": {
    "tags": []
   },
   "outputs": [
    {
     "name": "stdout",
     "output_type": "stream",
     "text": [
      "Classification Report for Gradient Boosting with OverSampling:\n",
      "              precision    recall  f1-score   support\n",
      "\n",
      "           0       0.94      0.81      0.87      1607\n",
      "           1       0.50      0.78      0.61       393\n",
      "\n",
      "    accuracy                           0.80      2000\n",
      "   macro avg       0.72      0.80      0.74      2000\n",
      "weighted avg       0.85      0.80      0.82      2000\n",
      "\n"
     ]
    }
   ],
   "source": [
    "# Initialize the classifier\n",
    "gb_classifier = GradientBoostingClassifier()\n",
    "\n",
    "# Train the model on the training data\n",
    "gb_classifier.fit(X_train_ros, y_train_ros)\n",
    "\n",
    "# Predict on the test data\n",
    "y_pred = gb_classifier.predict(X_test)\n",
    "\n",
    "# Evaluate the model\n",
    "print(\"Classification Report for Gradient Boosting with OverSampling:\")\n",
    "print(classification_report(y_test, y_pred))\n"
   ]
  },
  {
   "cell_type": "markdown",
   "metadata": {},
   "source": [
    "## GradientBoosting Classifier with UnderSampling"
   ]
  },
  {
   "cell_type": "code",
   "execution_count": 478,
   "metadata": {
    "tags": []
   },
   "outputs": [
    {
     "name": "stdout",
     "output_type": "stream",
     "text": [
      "Classification Report for Gradient Boosting with UnderSampling:\n",
      "              precision    recall  f1-score   support\n",
      "\n",
      "           0       0.91      0.91      0.91      1607\n",
      "           1       0.64      0.62      0.63       393\n",
      "\n",
      "    accuracy                           0.86      2000\n",
      "   macro avg       0.77      0.77      0.77      2000\n",
      "weighted avg       0.85      0.86      0.86      2000\n",
      "\n"
     ]
    }
   ],
   "source": [
    "# Initialize the classifier\n",
    "gb_classifier = GradientBoostingClassifier()\n",
    "\n",
    "# Train the model on the training data\n",
    "gb_classifier.fit(X_train_rus, y_train_rus)\n",
    "\n",
    "# Predict on the test data\n",
    "y_pred = gb_classifier.predict(X_test)\n",
    "\n",
    "# Evaluate the model\n",
    "print(\"Classification Report for Gradient Boosting with UnderSampling:\")\n",
    "print(classification_report(y_test, y_pred))\n"
   ]
  },
  {
   "cell_type": "markdown",
   "metadata": {
    "tags": []
   },
   "source": [
    "## XGBoost classifier"
   ]
  },
  {
   "cell_type": "code",
   "execution_count": 770,
   "metadata": {},
   "outputs": [
    {
     "name": "stdout",
     "output_type": "stream",
     "text": [
      "\n",
      "classification report acheived by XGBoost equals:\n",
      "              precision    recall  f1-score   support\n",
      "\n",
      "           0       0.91      0.87      0.89      1607\n",
      "           1       0.55      0.65      0.60       393\n",
      "\n",
      "    accuracy                           0.83      2000\n",
      "   macro avg       0.73      0.76      0.75      2000\n",
      "weighted avg       0.84      0.83      0.83      2000\n",
      "\n"
     ]
    }
   ],
   "source": [
    "# Calculate scale_pos_weight value\n",
    "scale_pos_weight = sum(y_train == 0) / sum(y_train == 1)\n",
    "\n",
    "# Initialize the classifier\n",
    "xgb = XGBClassifier(scale_pos_weight=scale_pos_weight)\n",
    "\n",
    "# Train the model on the training data\n",
    "xgb.fit(X_train,y_train)\n",
    "\n",
    "# Predict the classes related to X_test\n",
    "y_pred = xgb.predict(X_test)\n",
    "\n",
    "print(f\"\\nclassification report acheived by XGBoost equals:\")\n",
    "\n",
    "# Calculate the classification metrics\n",
    "report = sklearn.metrics.classification_report(y_test, y_pred)\n",
    "\n",
    "# Print the classification report\n",
    "print(report)"
   ]
  },
  {
   "cell_type": "markdown",
   "metadata": {},
   "source": [
    "## XGBoost classifier with SMOTE"
   ]
  },
  {
   "cell_type": "code",
   "execution_count": 484,
   "metadata": {
    "tags": []
   },
   "outputs": [
    {
     "name": "stdout",
     "output_type": "stream",
     "text": [
      "\n",
      "classification report acheived by XGBoost with SMOTE equals:\n",
      "              precision    recall  f1-score   support\n",
      "\n",
      "           0       0.91      0.86      0.88      1607\n",
      "           1       0.53      0.65      0.58       393\n",
      "\n",
      "    accuracy                           0.82      2000\n",
      "   macro avg       0.72      0.75      0.73      2000\n",
      "weighted avg       0.83      0.82      0.82      2000\n",
      "\n"
     ]
    }
   ],
   "source": [
    "# Initialize the classifier\n",
    "xgb = XGBClassifier()\n",
    "\n",
    "# Train the model on the training data\n",
    "xgb.fit(X_train_smote,y_train_smote)\n",
    "\n",
    "# Predict the classes related to X_test\n",
    "y_pred = xgb.predict(X_test)\n",
    "\n",
    "print(f\"\\nclassification report acheived by XGBoost with SMOTE equals:\")\n",
    "\n",
    "# Calculate the classification metrics\n",
    "report = sklearn.metrics.classification_report(y_test, y_pred)\n",
    "\n",
    "# Print the classification report\n",
    "print(report)"
   ]
  },
  {
   "cell_type": "markdown",
   "metadata": {},
   "source": [
    "## XGBoost classifier with OverSampling"
   ]
  },
  {
   "cell_type": "code",
   "execution_count": 487,
   "metadata": {
    "tags": []
   },
   "outputs": [
    {
     "name": "stdout",
     "output_type": "stream",
     "text": [
      "\n",
      "classification report acheived by XGBoost with OverSampling equals:\n",
      "              precision    recall  f1-score   support\n",
      "\n",
      "           0       0.91      0.88      0.89      1607\n",
      "           1       0.56      0.63      0.59       393\n",
      "\n",
      "    accuracy                           0.83      2000\n",
      "   macro avg       0.73      0.75      0.74      2000\n",
      "weighted avg       0.84      0.83      0.83      2000\n",
      "\n"
     ]
    }
   ],
   "source": [
    "# Initialize the classifier\n",
    "xgb = XGBClassifier()\n",
    "\n",
    "# Train the model on the training data\n",
    "xgb.fit(X_train_ros,y_train_ros)\n",
    "\n",
    "# Predict the classes related to X_test\n",
    "y_pred = xgb.predict(X_test)\n",
    "\n",
    "print(f\"\\nclassification report acheived by XGBoost with OverSampling equals:\")\n",
    "\n",
    "# Calculate the classification metrics\n",
    "report = sklearn.metrics.classification_report(y_test, y_pred)\n",
    "\n",
    "# Print the classification report\n",
    "print(report)"
   ]
  },
  {
   "cell_type": "markdown",
   "metadata": {},
   "source": [
    "## XGBoost classifier with UnderSampling"
   ]
  },
  {
   "cell_type": "code",
   "execution_count": 490,
   "metadata": {
    "tags": []
   },
   "outputs": [
    {
     "name": "stdout",
     "output_type": "stream",
     "text": [
      "\n",
      "classification report acheived by XGBoost with UnderSampling equals:\n",
      "              precision    recall  f1-score   support\n",
      "\n",
      "           0       0.91      0.88      0.90      1607\n",
      "           1       0.57      0.64      0.60       393\n",
      "\n",
      "    accuracy                           0.83      2000\n",
      "   macro avg       0.74      0.76      0.75      2000\n",
      "weighted avg       0.84      0.83      0.84      2000\n",
      "\n"
     ]
    }
   ],
   "source": [
    "# Initialize the classifier\n",
    "xgb = XGBClassifier()\n",
    "\n",
    "# Train the model on the training data\n",
    "xgb.fit(X_train_rus,y_train_rus)\n",
    "\n",
    "# Predict the classes related to X_test\n",
    "y_pred = xgb.predict(X_test)\n",
    "\n",
    "print(f\"\\nclassification report acheived by XGBoost with UnderSampling equals:\")\n",
    "\n",
    "# Calculate the classification metrics\n",
    "report = sklearn.metrics.classification_report(y_test, y_pred)\n",
    "\n",
    "# Print the classification report\n",
    "print(report)"
   ]
  },
  {
   "cell_type": "markdown",
   "metadata": {},
   "source": [
    "## AdaBoost Classifier"
   ]
  },
  {
   "cell_type": "code",
   "execution_count": 778,
   "metadata": {},
   "outputs": [
    {
     "name": "stdout",
     "output_type": "stream",
     "text": [
      "\n",
      "classification report acheived by AdaBoost equals:\n",
      "              precision    recall  f1-score   support\n",
      "\n",
      "           0       0.94      0.79      0.86      1607\n",
      "           1       0.48      0.79      0.60       393\n",
      "\n",
      "    accuracy                           0.79      2000\n",
      "   macro avg       0.71      0.79      0.73      2000\n",
      "weighted avg       0.85      0.79      0.81      2000\n",
      "\n"
     ]
    }
   ],
   "source": [
    "# Compute sample weights\n",
    "sample_weights = compute_sample_weight('balanced', y_train)\n",
    "\n",
    "# Initialize the classifier\n",
    "Ada = AdaBoostClassifier(algorithm='SAMME')\n",
    "\n",
    "# Train the model on the training data\n",
    "Ada.fit(X_train, y_train, sample_weight=sample_weights)\n",
    "\n",
    "# Predict the classes related to X_test\n",
    "y_pred = Ada.predict(X_test)\n",
    "\n",
    "print(f\"\\nclassification report acheived by AdaBoost equals:\")\n",
    "\n",
    "# Calculate the classification metrics\n",
    "report = sklearn.metrics.classification_report(y_test, y_pred)\n",
    "\n",
    "# Print the classification report\n",
    "print(report)"
   ]
  },
  {
   "cell_type": "markdown",
   "metadata": {},
   "source": [
    "## AdaBoost Classifier with SMOTE"
   ]
  },
  {
   "cell_type": "code",
   "execution_count": 496,
   "metadata": {
    "tags": []
   },
   "outputs": [
    {
     "name": "stdout",
     "output_type": "stream",
     "text": [
      "\n",
      "classification report acheived by AdaBoost with SMOTE equals:\n",
      "              precision    recall  f1-score   support\n",
      "\n",
      "           0       0.92      0.82      0.87      1607\n",
      "           1       0.49      0.71      0.58       393\n",
      "\n",
      "    accuracy                           0.80      2000\n",
      "   macro avg       0.70      0.76      0.72      2000\n",
      "weighted avg       0.83      0.80      0.81      2000\n",
      "\n"
     ]
    }
   ],
   "source": [
    "# Initialize the classifier\n",
    "Ada = AdaBoostClassifier(algorithm='SAMME')\n",
    "\n",
    "# Train the model on the training data\n",
    "Ada.fit(X_train_smote, y_train_smote)\n",
    "\n",
    "# Predict the classes related to X_test\n",
    "y_pred = Ada.predict(X_test)\n",
    "\n",
    "print(f\"\\nclassification report acheived by AdaBoost with SMOTE equals:\")\n",
    "\n",
    "# Calculate the classification metrics\n",
    "report = sklearn.metrics.classification_report(y_test, y_pred)\n",
    "\n",
    "# Print the classification report\n",
    "print(report)"
   ]
  },
  {
   "cell_type": "markdown",
   "metadata": {},
   "source": [
    "## AdaBoost Classifier with OverSampling"
   ]
  },
  {
   "cell_type": "code",
   "execution_count": 499,
   "metadata": {
    "tags": []
   },
   "outputs": [
    {
     "name": "stdout",
     "output_type": "stream",
     "text": [
      "\n",
      "classification report acheived by AdaBoost with OverSampling equals:\n",
      "              precision    recall  f1-score   support\n",
      "\n",
      "           0       0.93      0.78      0.85      1607\n",
      "           1       0.46      0.76      0.57       393\n",
      "\n",
      "    accuracy                           0.78      2000\n",
      "   macro avg       0.70      0.77      0.71      2000\n",
      "weighted avg       0.84      0.78      0.80      2000\n",
      "\n"
     ]
    }
   ],
   "source": [
    "# Initialize the classifier\n",
    "Ada = AdaBoostClassifier(algorithm='SAMME')\n",
    "\n",
    "# Train the model on the training data\n",
    "Ada.fit(X_train_ros, y_train_ros)\n",
    "\n",
    "# Predict the classes related to X_test\n",
    "y_pred = Ada.predict(X_test)\n",
    "\n",
    "print(f\"\\nclassification report acheived by AdaBoost with OverSampling equals:\")\n",
    "\n",
    "# Calculate the classification metrics\n",
    "report = sklearn.metrics.classification_report(y_test, y_pred)\n",
    "\n",
    "# Print the classification report\n",
    "print(report)"
   ]
  },
  {
   "cell_type": "markdown",
   "metadata": {},
   "source": [
    "## AdaBoost Classifier with UnderSampling"
   ]
  },
  {
   "cell_type": "code",
   "execution_count": 502,
   "metadata": {
    "tags": []
   },
   "outputs": [
    {
     "name": "stdout",
     "output_type": "stream",
     "text": [
      "\n",
      "classification report acheived by AdaBoost with UnderSampling equals:\n",
      "              precision    recall  f1-score   support\n",
      "\n",
      "           0       0.91      0.89      0.90      1607\n",
      "           1       0.59      0.62      0.60       393\n",
      "\n",
      "    accuracy                           0.84      2000\n",
      "   macro avg       0.75      0.76      0.75      2000\n",
      "weighted avg       0.84      0.84      0.84      2000\n",
      "\n"
     ]
    }
   ],
   "source": [
    "# Initialize the classifier\n",
    "Ada = AdaBoostClassifier(algorithm='SAMME')\n",
    "\n",
    "# Train the model on the training data\n",
    "Ada.fit(X_train_rus, y_train_rus)\n",
    "\n",
    "# Predict on the test data\n",
    "y_pred = Ada.predict(X_test)\n",
    "\n",
    "print(f\"\\nclassification report acheived by AdaBoost with UnderSampling equals:\")\n",
    "\n",
    "# Calculate the classification metrics\n",
    "report = sklearn.metrics.classification_report(y_test, y_pred)\n",
    "\n",
    "# Print the classification report\n",
    "print(report)"
   ]
  },
  {
   "cell_type": "markdown",
   "metadata": {},
   "source": [
    "## RandomForest Classifier"
   ]
  },
  {
   "cell_type": "code",
   "execution_count": 796,
   "metadata": {
    "scrolled": true
   },
   "outputs": [
    {
     "name": "stdout",
     "output_type": "stream",
     "text": [
      "\n",
      "classification report acheived by RandomForest equals:\n",
      "              precision    recall  f1-score   support\n",
      "\n",
      "           0       0.88      0.97      0.92      1607\n",
      "           1       0.79      0.45      0.57       393\n",
      "\n",
      "    accuracy                           0.87      2000\n",
      "   macro avg       0.83      0.71      0.75      2000\n",
      "weighted avg       0.86      0.87      0.85      2000\n",
      "\n"
     ]
    }
   ],
   "source": [
    "# Initialize the classifier\n",
    "RFC = RandomForestClassifier(class_weight='balanced')\n",
    "\n",
    "# Train the model on the training data\n",
    "RFC.fit(X_train, y_train)\n",
    "\n",
    "# Predict on the test data\n",
    "y_pred = RFC.predict(X_test)\n",
    "\n",
    "print(f\"\\nclassification report acheived by RandomForest equals:\")\n",
    "\n",
    "# Calculate the classification metrics\n",
    "report = sklearn.metrics.classification_report(y_test, y_pred)\n",
    "\n",
    "# Print the classification report\n",
    "print(report)"
   ]
  },
  {
   "cell_type": "markdown",
   "metadata": {},
   "source": [
    "## RandomForest Classifier with SMOTE"
   ]
  },
  {
   "cell_type": "code",
   "execution_count": 508,
   "metadata": {
    "tags": []
   },
   "outputs": [
    {
     "name": "stdout",
     "output_type": "stream",
     "text": [
      "\n",
      "classification report acheived by RandomForest with SMOTE equals:\n",
      "              precision    recall  f1-score   support\n",
      "\n",
      "           0       0.91      0.86      0.89      1607\n",
      "           1       0.54      0.66      0.59       393\n",
      "\n",
      "    accuracy                           0.82      2000\n",
      "   macro avg       0.72      0.76      0.74      2000\n",
      "weighted avg       0.84      0.82      0.83      2000\n",
      "\n"
     ]
    }
   ],
   "source": [
    "# Initialize the classifier\n",
    "RFC = RandomForestClassifier()\n",
    "\n",
    "# Train the model on the training data\n",
    "RFC.fit(X_train_smote, y_train_smote)\n",
    "\n",
    "# Predict on the test data\n",
    "y_pred = RFC.predict(X_test)\n",
    "\n",
    "print(f\"\\nclassification report acheived by RandomForest with SMOTE equals:\")\n",
    "\n",
    "# Calculate the classification metrics\n",
    "report = sklearn.metrics.classification_report(y_test, y_pred)\n",
    "\n",
    "# Print the classification report\n",
    "print(report)"
   ]
  },
  {
   "cell_type": "markdown",
   "metadata": {},
   "source": [
    "## RandomForest Classifier with OverSampling"
   ]
  },
  {
   "cell_type": "code",
   "execution_count": 511,
   "metadata": {
    "tags": []
   },
   "outputs": [
    {
     "name": "stdout",
     "output_type": "stream",
     "text": [
      "\n",
      "classification report acheived by RandomForest with Over-Sampling equals:\n",
      "\n",
      "              precision    recall  f1-score   support\n",
      "\n",
      "           0       0.89      0.94      0.91      1607\n",
      "           1       0.68      0.53      0.60       393\n",
      "\n",
      "    accuracy                           0.86      2000\n",
      "   macro avg       0.78      0.74      0.76      2000\n",
      "weighted avg       0.85      0.86      0.85      2000\n",
      "\n"
     ]
    }
   ],
   "source": [
    "# Initialize the classifier\n",
    "rf_model = RandomForestClassifier()\n",
    "\n",
    "# Train the model on the training data\n",
    "rf_model.fit(X_ros, y_ros)\n",
    "\n",
    "# Predict on the test set\n",
    "y_pred = rf_model.predict(X_test)\n",
    "\n",
    "print(f\"\\nclassification report acheived by RandomForest with Over-Sampling equals:\\n\")\n",
    "\n",
    "# Calculate and print the classification metrics\n",
    "print(classification_report(y_test, y_pred))"
   ]
  },
  {
   "cell_type": "markdown",
   "metadata": {},
   "source": [
    "## RandomForest Classifier with Under-Sampling"
   ]
  },
  {
   "cell_type": "code",
   "execution_count": 514,
   "metadata": {
    "tags": []
   },
   "outputs": [
    {
     "name": "stdout",
     "output_type": "stream",
     "text": [
      "\n",
      "classification report acheived by RandomForest with Under-Sampling equals:\n",
      "\n",
      "              precision    recall  f1-score   support\n",
      "\n",
      "           0       0.90      0.91      0.91      1607\n",
      "           1       0.62      0.61      0.61       393\n",
      "\n",
      "    accuracy                           0.85      2000\n",
      "   macro avg       0.76      0.76      0.76      2000\n",
      "weighted avg       0.85      0.85      0.85      2000\n",
      "\n"
     ]
    }
   ],
   "source": [
    "# Initialize the classifier\n",
    "rf_model = RandomForestClassifier()\n",
    "\n",
    "# Train the model on the training data\n",
    "rf_model.fit(X_rus, y_rus)\n",
    "\n",
    "# Predict on the test set\n",
    "y_pred = rf_model.predict(X_test)\n",
    "\n",
    "print(f\"\\nclassification report acheived by RandomForest with Under-Sampling equals:\\n\")\n",
    "\n",
    "# Calculate and print the classification metrics\n",
    "print(classification_report(y_test, y_pred))"
   ]
  },
  {
   "cell_type": "markdown",
   "metadata": {},
   "source": [
    "## LGBM Classifier"
   ]
  },
  {
   "cell_type": "code",
   "execution_count": 748,
   "metadata": {
    "tags": []
   },
   "outputs": [
    {
     "name": "stdout",
     "output_type": "stream",
     "text": [
      "[LightGBM] [Info] Number of positive: 1644, number of negative: 6356\n",
      "[LightGBM] [Info] Auto-choosing row-wise multi-threading, the overhead of testing was 0.000455 seconds.\n",
      "You can set `force_row_wise=true` to remove the overhead.\n",
      "And if memory is not enough, you can set `force_col_wise=true`.\n",
      "[LightGBM] [Info] Total Bins 856\n",
      "[LightGBM] [Info] Number of data points in the train set: 8000, number of used features: 10\n",
      "[LightGBM] [Info] [binary:BoostFromScore]: pavg=0.500000 -> initscore=-0.000000\n",
      "[LightGBM] [Info] Start training from score -0.000000\n",
      "\n",
      "classification report acheived by LGBM equals:\n",
      "\n",
      "              precision    recall  f1-score   support\n",
      "\n",
      "           0       0.93      0.84      0.88      1607\n",
      "           1       0.53      0.75      0.62       393\n",
      "\n",
      "    accuracy                           0.82      2000\n",
      "   macro avg       0.73      0.79      0.75      2000\n",
      "weighted avg       0.85      0.82      0.83      2000\n",
      "\n"
     ]
    }
   ],
   "source": [
    "# Initialize the classifier\n",
    "lgbm = LGBMClassifier(class_weight='balanced')\n",
    "\n",
    "# Train the model on the training data\n",
    "lgbm.fit(X_train, y_train)\n",
    "\n",
    "# Predict on the test set\n",
    "y_pred = lgbm.predict(X_test)\n",
    "\n",
    "print(f\"\\nclassification report acheived by LGBM equals:\\n\")\n",
    "\n",
    "# Calculate and print the classification metrics\n",
    "print(classification_report(y_test, y_pred))\n"
   ]
  },
  {
   "cell_type": "markdown",
   "metadata": {},
   "source": [
    "## LGBM Classifier with SMOTE"
   ]
  },
  {
   "cell_type": "code",
   "execution_count": 730,
   "metadata": {
    "tags": []
   },
   "outputs": [
    {
     "name": "stdout",
     "output_type": "stream",
     "text": [
      "[LightGBM] [Info] Number of positive: 6356, number of negative: 6356\n",
      "[LightGBM] [Info] Auto-choosing row-wise multi-threading, the overhead of testing was 0.001337 seconds.\n",
      "You can set `force_row_wise=true` to remove the overhead.\n",
      "And if memory is not enough, you can set `force_col_wise=true`.\n",
      "[LightGBM] [Info] Total Bins 855\n",
      "[LightGBM] [Info] Number of data points in the train set: 12712, number of used features: 10\n",
      "[LightGBM] [Info] [binary:BoostFromScore]: pavg=0.500000 -> initscore=0.000000\n",
      "\n",
      "classification report acheived by LGBM with SMOTE equals:\n",
      "\n",
      "              precision    recall  f1-score   support\n",
      "\n",
      "           0       0.92      0.85      0.88      1607\n",
      "           1       0.53      0.69      0.60       393\n",
      "\n",
      "    accuracy                           0.82      2000\n",
      "   macro avg       0.72      0.77      0.74      2000\n",
      "weighted avg       0.84      0.82      0.83      2000\n",
      "\n"
     ]
    }
   ],
   "source": [
    "# Initialize the classifier\n",
    "lgbm = LGBMClassifier()\n",
    "\n",
    "# Train the model on the training data\n",
    "lgbm.fit(X_train_smote, y_train_smote)\n",
    "\n",
    "# Predict on the test set\n",
    "y_pred = lgbm.predict(X_test)\n",
    "\n",
    "print(f\"\\nclassification report acheived by LGBM with SMOTE equals:\\n\")\n",
    "\n",
    "# Calculate and print the classification metrics\n",
    "print(classification_report(y_test, y_pred))\n"
   ]
  },
  {
   "cell_type": "markdown",
   "metadata": {},
   "source": [
    "## LGBM Classifier with Over-Sampling"
   ]
  },
  {
   "cell_type": "code",
   "execution_count": 738,
   "metadata": {
    "tags": []
   },
   "outputs": [
    {
     "name": "stdout",
     "output_type": "stream",
     "text": [
      "[LightGBM] [Info] Number of positive: 6356, number of negative: 6356\n",
      "[LightGBM] [Info] Auto-choosing row-wise multi-threading, the overhead of testing was 0.000697 seconds.\n",
      "You can set `force_row_wise=true` to remove the overhead.\n",
      "And if memory is not enough, you can set `force_col_wise=true`.\n",
      "[LightGBM] [Info] Total Bins 857\n",
      "[LightGBM] [Info] Number of data points in the train set: 12712, number of used features: 10\n",
      "[LightGBM] [Info] [binary:BoostFromScore]: pavg=0.500000 -> initscore=0.000000\n",
      "\n",
      "classification report acheived by LGBM with Over-Sampling equals:\n",
      "\n",
      "              precision    recall  f1-score   support\n",
      "\n",
      "           0       0.92      0.84      0.88      1607\n",
      "           1       0.52      0.70      0.60       393\n",
      "\n",
      "    accuracy                           0.81      2000\n",
      "   macro avg       0.72      0.77      0.74      2000\n",
      "weighted avg       0.84      0.81      0.82      2000\n",
      "\n"
     ]
    }
   ],
   "source": [
    "# Initialize the classifier\n",
    "lgbm = LGBMClassifier()\n",
    "\n",
    "# Train the model on the training data\n",
    "lgbm.fit(X_train_ros, y_train_ros)\n",
    "\n",
    "# Predict on the test data\n",
    "y_pred = lgbm.predict(X_test)\n",
    "\n",
    "print(f\"\\nclassification report acheived by LGBM with Over-Sampling equals:\\n\")\n",
    "\n",
    "# Calculate and print the classification metrics\n",
    "print(classification_report(y_test, y_pred))\n"
   ]
  },
  {
   "cell_type": "markdown",
   "metadata": {},
   "source": [
    "## LGBM Classifier with Under-Sampling"
   ]
  },
  {
   "cell_type": "code",
   "execution_count": 740,
   "metadata": {
    "tags": []
   },
   "outputs": [
    {
     "name": "stdout",
     "output_type": "stream",
     "text": [
      "[LightGBM] [Info] Number of positive: 1644, number of negative: 3288\n",
      "[LightGBM] [Info] Auto-choosing col-wise multi-threading, the overhead of testing was 0.000968 seconds.\n",
      "You can set `force_col_wise=true` to remove the overhead.\n",
      "[LightGBM] [Info] Total Bins 853\n",
      "[LightGBM] [Info] Number of data points in the train set: 4932, number of used features: 10\n",
      "[LightGBM] [Info] [binary:BoostFromScore]: pavg=0.333333 -> initscore=-0.693147\n",
      "[LightGBM] [Info] Start training from score -0.693147\n",
      "\n",
      "classification report acheived by LGBM with Under-Sampling equals:\n",
      "\n",
      "              precision    recall  f1-score   support\n",
      "\n",
      "           0       0.91      0.90      0.90      1607\n",
      "           1       0.61      0.64      0.62       393\n",
      "\n",
      "    accuracy                           0.85      2000\n",
      "   macro avg       0.76      0.77      0.76      2000\n",
      "weighted avg       0.85      0.85      0.85      2000\n",
      "\n"
     ]
    }
   ],
   "source": [
    "# Initialize the classifier\n",
    "lgbm = LGBMClassifier()\n",
    "\n",
    "# Train the model on the training data\n",
    "lgbm.fit(X_train_rus, y_train_rus)\n",
    "\n",
    "# Predict on the test data\n",
    "y_pred = lgbm.predict(X_test)\n",
    "\n",
    "print(f\"\\nclassification report acheived by LGBM with Under-Sampling equals:\\n\")\n",
    "\n",
    "# Calculate and print the classification metrics\n",
    "print(classification_report(y_test, y_pred))\n"
   ]
  },
  {
   "cell_type": "markdown",
   "metadata": {},
   "source": [
    "## CatBoost Classifier"
   ]
  },
  {
   "cell_type": "code",
   "execution_count": 663,
   "metadata": {
    "tags": []
   },
   "outputs": [
    {
     "name": "stdout",
     "output_type": "stream",
     "text": [
      "\n",
      "classification report acheived by CatBoost equals:\n",
      "\n",
      "              precision    recall  f1-score   support\n",
      "\n",
      "           0       0.93      0.84      0.88      1607\n",
      "           1       0.53      0.73      0.62       393\n",
      "\n",
      "    accuracy                           0.82      2000\n",
      "   macro avg       0.73      0.79      0.75      2000\n",
      "weighted avg       0.85      0.82      0.83      2000\n",
      "\n"
     ]
    }
   ],
   "source": [
    "# Initialize the classifier\n",
    "catboost = CatBoostClassifier(class_weights={0:1, 1:4}, verbose=0)\n",
    "\n",
    "# Train the model on the training data\n",
    "catboost.fit(X_train, y_train)\n",
    "\n",
    "# Predict on the test data\n",
    "y_pred = catboost.predict(X_test)\n",
    "\n",
    "print(f\"\\nclassification report acheived by CatBoost equals:\\n\")\n",
    "\n",
    "# Calculate and print the classification metrics\n",
    "print(classification_report(y_test, y_pred))\n"
   ]
  },
  {
   "cell_type": "markdown",
   "metadata": {},
   "source": [
    "## CatBoost Classifier with SMOTE"
   ]
  },
  {
   "cell_type": "code",
   "execution_count": 765,
   "metadata": {
    "tags": []
   },
   "outputs": [
    {
     "name": "stdout",
     "output_type": "stream",
     "text": [
      "\n",
      "classification report acheived by CatBoost with SMOTE equals:\n",
      "\n",
      "              precision    recall  f1-score   support\n",
      "\n",
      "           0       0.91      0.86      0.89      1607\n",
      "           1       0.54      0.67      0.59       393\n",
      "\n",
      "    accuracy                           0.82      2000\n",
      "   macro avg       0.73      0.76      0.74      2000\n",
      "weighted avg       0.84      0.82      0.83      2000\n",
      "\n"
     ]
    }
   ],
   "source": [
    "# Initialize the classifier\n",
    "catboost = CatBoostClassifier(verbose=0)\n",
    "\n",
    "# Train the model on the training data\n",
    "catboost.fit(X_train_smote, y_train_smote)\n",
    "\n",
    "# Predict on the test data\n",
    "y_pred = catboost.predict(X_test)\n",
    "\n",
    "print(f\"\\nclassification report acheived by CatBoost with SMOTE equals:\\n\")\n",
    "\n",
    "# Calculate and print the classification metrics\n",
    "print(classification_report(y_test, y_pred))\n"
   ]
  },
  {
   "cell_type": "markdown",
   "metadata": {},
   "source": [
    "## CatBoost Classifier with Over-Sampling"
   ]
  },
  {
   "cell_type": "code",
   "execution_count": 679,
   "metadata": {
    "tags": []
   },
   "outputs": [
    {
     "name": "stdout",
     "output_type": "stream",
     "text": [
      "\n",
      "classification report acheived by CatBoost with Over-Sampling equals:\n",
      "\n",
      "              precision    recall  f1-score   support\n",
      "\n",
      "           0       0.92      0.86      0.89      1607\n",
      "           1       0.55      0.70      0.62       393\n",
      "\n",
      "    accuracy                           0.83      2000\n",
      "   macro avg       0.74      0.78      0.75      2000\n",
      "weighted avg       0.85      0.83      0.84      2000\n",
      "\n"
     ]
    }
   ],
   "source": [
    "# Initialize the classifier\n",
    "catboost = CatBoostClassifier(verbose=0)\n",
    "\n",
    "# Train the model on the training data\n",
    "catboost.fit(X_train_ros, y_train_ros)\n",
    "\n",
    "# Predict on the test data\n",
    "y_pred = catboost.predict(X_test)\n",
    "\n",
    "print(f\"\\nclassification report acheived by CatBoost with Over-Sampling equals:\\n\")\n",
    "\n",
    "# Calculate and print the classification metrics\n",
    "print(classification_report(y_test, y_pred))\n"
   ]
  },
  {
   "cell_type": "markdown",
   "metadata": {},
   "source": [
    "## CatBoost Classifier with Under-Sampling"
   ]
  },
  {
   "cell_type": "code",
   "execution_count": 681,
   "metadata": {
    "tags": []
   },
   "outputs": [
    {
     "name": "stdout",
     "output_type": "stream",
     "text": [
      "\n",
      "classification report acheived by CatBoost with Under-Sampling equals:\n",
      "\n",
      "              precision    recall  f1-score   support\n",
      "\n",
      "           0       0.91      0.90      0.91      1607\n",
      "           1       0.62      0.62      0.62       393\n",
      "\n",
      "    accuracy                           0.85      2000\n",
      "   macro avg       0.76      0.76      0.76      2000\n",
      "weighted avg       0.85      0.85      0.85      2000\n",
      "\n"
     ]
    }
   ],
   "source": [
    "# Initialize the classifier\n",
    "catboost = CatBoostClassifier(verbose=0)\n",
    "\n",
    "# Train the model on the training data\n",
    "catboost.fit(X_train_rus, y_train_rus)\n",
    "\n",
    "# Predict on the test data\n",
    "y_pred = catboost.predict(X_test)\n",
    "\n",
    "print(f\"\\nclassification report acheived by CatBoost with Under-Sampling equals:\\n\")\n",
    "\n",
    "# Calculate and print the classification metrics\n",
    "print(classification_report(y_test, y_pred))\n"
   ]
  },
  {
   "cell_type": "markdown",
   "metadata": {
    "tags": []
   },
   "source": [
    "## Anomaly Detection Algorithms\n",
    "\n",
    "Treat the minority class as anomalies and use anomaly detection algorithms."
   ]
  },
  {
   "cell_type": "code",
   "execution_count": 517,
   "metadata": {
    "tags": []
   },
   "outputs": [
    {
     "name": "stdout",
     "output_type": "stream",
     "text": [
      "Isolation Forest\n",
      "              precision    recall  f1-score   support\n",
      "\n",
      "           0       0.86      0.32      0.47      1607\n",
      "           1       0.22      0.79      0.34       393\n",
      "\n",
      "    accuracy                           0.41      2000\n",
      "   macro avg       0.54      0.55      0.41      2000\n",
      "weighted avg       0.73      0.41      0.44      2000\n",
      "\n"
     ]
    }
   ],
   "source": [
    "# Initialize the model\n",
    "iso_forest = IsolationForest(random_state=42)\n",
    "\n",
    "iso_forest.fit(X_train)\n",
    "\n",
    "# Predict on the test set\n",
    "y_pred = iso_forest.predict(X_test)\n",
    "y_pred = [1 if x == -1 else 0 for x in y_pred]  # Assuming class 1 is the anomaly class\n",
    "\n",
    "# Evaluate the model\n",
    "print(\"Isolation Forest\")\n",
    "print(classification_report(y_test, y_pred))\n"
   ]
  },
  {
   "cell_type": "markdown",
   "metadata": {
    "tags": []
   },
   "source": [
    "## SVM classifier"
   ]
  },
  {
   "cell_type": "code",
   "execution_count": 630,
   "metadata": {
    "scrolled": true
   },
   "outputs": [
    {
     "name": "stdout",
     "output_type": "stream",
     "text": [
      "\n",
      "classification report acheived by SVM equals: \n",
      "\n",
      "              precision    recall  f1-score   support\n",
      "\n",
      "           0       0.93      0.77      0.85      1607\n",
      "           1       0.45      0.77      0.57       393\n",
      "\n",
      "    accuracy                           0.77      2000\n",
      "   macro avg       0.69      0.77      0.71      2000\n",
      "weighted avg       0.84      0.77      0.79      2000\n",
      "\n"
     ]
    }
   ],
   "source": [
    "# Initialize the classifier\n",
    "svc = SVC(class_weight =  {0: 1, 1: 4} )\n",
    "\n",
    "# Train the model on the training data\n",
    "svc.fit(X_train_N, y_train)\n",
    "\n",
    "# Predict on the test data\n",
    "y_pred = svc.predict(X_test_N)\n",
    "\n",
    "print(f\"\\nclassification report acheived by SVM equals: \\n\")\n",
    "\n",
    "# Calculate the classification metrics\n",
    "report = sklearn.metrics.classification_report(y_test, y_pred)\n",
    "\n",
    "# Print the classification report\n",
    "print(report)"
   ]
  },
  {
   "cell_type": "markdown",
   "metadata": {},
   "source": [
    "## SVM with SMOTE"
   ]
  },
  {
   "cell_type": "code",
   "execution_count": 717,
   "metadata": {
    "tags": []
   },
   "outputs": [
    {
     "name": "stdout",
     "output_type": "stream",
     "text": [
      "\n",
      "classification report acheived by SVM and SMOTE equals:\n",
      "              precision    recall  f1-score   support\n",
      "\n",
      "           0       0.91      0.84      0.87      1607\n",
      "           1       0.50      0.66      0.57       393\n",
      "\n",
      "    accuracy                           0.81      2000\n",
      "   macro avg       0.71      0.75      0.72      2000\n",
      "weighted avg       0.83      0.81      0.81      2000\n",
      "\n"
     ]
    }
   ],
   "source": [
    "# Initialize the classifier\n",
    "svc = SVC()\n",
    "\n",
    "# Train the model on the training data\n",
    "svc.fit(X_train_smote_N, y_train_smote)\n",
    "\n",
    "# Predict on the test data\n",
    "y_pred = svc.predict(X_test_smote_N)\n",
    "\n",
    "print(f\"\\nclassification report acheived by SVM and SMOTE equals:\")\n",
    "\n",
    "# Calculate the classification metrics\n",
    "report = sklearn.metrics.classification_report(y_test, y_pred)\n",
    "\n",
    "# Print the classification report\n",
    "print(report)"
   ]
  },
  {
   "cell_type": "markdown",
   "metadata": {},
   "source": [
    "### SVM with Over-Sampling"
   ]
  },
  {
   "cell_type": "code",
   "execution_count": 711,
   "metadata": {
    "tags": []
   },
   "outputs": [
    {
     "name": "stdout",
     "output_type": "stream",
     "text": [
      "\n",
      "classification report acheived by SVM and Over-Sampling equals:\n",
      "              precision    recall  f1-score   support\n",
      "\n",
      "           0       0.93      0.78      0.85      1607\n",
      "           1       0.46      0.77      0.58       393\n",
      "\n",
      "    accuracy                           0.78      2000\n",
      "   macro avg       0.70      0.78      0.72      2000\n",
      "weighted avg       0.84      0.78      0.80      2000\n",
      "\n"
     ]
    }
   ],
   "source": [
    "# Initialize the classifier\n",
    "svc = SVC()\n",
    "\n",
    "# Train the model on the training data\n",
    "svc.fit(X_train_ros_N, y_train_ros)\n",
    "\n",
    "# Predict on the test data\n",
    "y_pred = svc.predict(X_test_ros_N)\n",
    "\n",
    "print(f\"\\nclassification report acheived by SVM and Over-Sampling equals:\")\n",
    "\n",
    "# Calculate the classification metrics\n",
    "report = sklearn.metrics.classification_report(y_test, y_pred)\n",
    "\n",
    "# Print the classification report\n",
    "print(report)"
   ]
  },
  {
   "cell_type": "markdown",
   "metadata": {},
   "source": [
    "### SVM with Under-Sampling"
   ]
  },
  {
   "cell_type": "code",
   "execution_count": 712,
   "metadata": {
    "tags": []
   },
   "outputs": [
    {
     "name": "stdout",
     "output_type": "stream",
     "text": [
      "\n",
      "classification report acheived by SVM and Under-Sampling equals:\n",
      "              precision    recall  f1-score   support\n",
      "\n",
      "           0       0.90      0.93      0.91      1607\n",
      "           1       0.66      0.56      0.61       393\n",
      "\n",
      "    accuracy                           0.86      2000\n",
      "   macro avg       0.78      0.75      0.76      2000\n",
      "weighted avg       0.85      0.86      0.85      2000\n",
      "\n"
     ]
    }
   ],
   "source": [
    "# Initialize the classifier\n",
    "svc = SVC()\n",
    "\n",
    "# Train the model on the training data\n",
    "svc.fit(X_train_rus_N, y_train_rus)\n",
    "\n",
    "# Predict on the test data\n",
    "y_pred = svc.predict(X_test_rus_N)\n",
    "\n",
    "print(f\"\\nclassification report acheived by SVM and Under-Sampling equals:\")\n",
    "\n",
    "# Calculate the classification metrics\n",
    "report = sklearn.metrics.classification_report(y_test, y_pred)\n",
    "\n",
    "# Print the classification report\n",
    "print(report)"
   ]
  },
  {
   "cell_type": "code",
   "execution_count": null,
   "metadata": {},
   "outputs": [],
   "source": []
  }
 ],
 "metadata": {
  "kernelspec": {
   "display_name": "Python 3 (ipykernel)",
   "language": "python",
   "name": "python3"
  },
  "language_info": {
   "codemirror_mode": {
    "name": "ipython",
    "version": 3
   },
   "file_extension": ".py",
   "mimetype": "text/x-python",
   "name": "python",
   "nbconvert_exporter": "python",
   "pygments_lexer": "ipython3",
   "version": "3.11.4"
  }
 },
 "nbformat": 4,
 "nbformat_minor": 4
}
